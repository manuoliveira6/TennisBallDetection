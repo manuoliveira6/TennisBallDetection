{
 "cells": [
  {
   "cell_type": "code",
   "execution_count": null,
   "metadata": {},
   "outputs": [],
   "source": [
    "import torch\n",
    "import torchvision.transforms as transforms\n",
    "import cv2\n",
    "from torchvision import models\n",
    "import numpy as np\n",
    "\n",
    "class CourtLineDetector:\n",
    "    def __init__(self, model_path):\n",
    "        self.model = models.resnet50(pretrained=True)\n",
    "        self.model.fc = torch.nn.Linear(self.model.fc.in_features, 14*2) \n",
    "        self.model.load_state_dict(torch.load(model_path, map_location='cpu'))\n",
    "\n",
    "    def transform_img(self, img):\n",
    "\n",
    "        img = transforms.Compose([\n",
    "            transforms.ToPILImage(),\n",
    "            transforms.Resize((224, 224)),\n",
    "            transforms.ToTensor(),\n",
    "            transforms.Normalize(mean=[0.485, 0.456, 0.406], std=[0.229, 0.224, 0.225])\n",
    "        ])(img)\n",
    "\n",
    "        return img\n",
    "\n",
    "    def predict(self, image):\n",
    "\n",
    "    \n",
    "        image_rgb = cv2.cvtColor(image, cv2.COLOR_BGR2RGB)\n",
    "        image_tensor = self.transform_img(image_rgb).unsqueeze(0)\n",
    "        with torch.no_grad():\n",
    "            outputs = self.model(image_tensor)\n",
    "        keypoints = outputs.squeeze().cpu().numpy()\n",
    "        original_h, original_w = image.shape[:2]\n",
    "        keypoints[::2] *= original_w / 224.0\n",
    "        keypoints[1::2] *= original_h / 224.0\n",
    "\n",
    "        return keypoints\n",
    "\n",
    "    def draw_keypoints(self, image, keypoints):\n",
    "        for i in range(0, len(keypoints), 2):\n",
    "            x = int(keypoints[i])\n",
    "            y = int(keypoints[i+1])\n",
    "            cv2.putText(image, str(i//2), (x, y-10), cv2.FONT_HERSHEY_SIMPLEX, 0.5, (0, 0, 255), 2)\n",
    "            cv2.circle(image, (x, y), 5, (0, 0, 255), -1)\n",
    "        return image\n",
    "    \n",
    "    def draw_keypoints_on_video(self, video_frames, keypoints):\n",
    "        output_video_frames = []\n",
    "        for frame in video_frames:\n",
    "            frame = self.draw_keypoints(frame, keypoints)\n",
    "            output_video_frames.append(frame)\n",
    "        return output_video_frames"
   ]
  },
  {
   "cell_type": "code",
   "execution_count": 15,
   "metadata": {},
   "outputs": [],
   "source": [
    "import torch\n",
    "import torchvision.transforms as transforms\n",
    "import cv2\n",
    "from torchvision import models\n",
    "import numpy as np"
   ]
  },
  {
   "cell_type": "code",
   "execution_count": 16,
   "metadata": {},
   "outputs": [
    {
     "name": "stderr",
     "output_type": "stream",
     "text": [
      "c:\\Users\\LENOVO\\anaconda3\\envs\\TENIS\\lib\\site-packages\\torchvision\\models\\_utils.py:208: UserWarning: The parameter 'pretrained' is deprecated since 0.13 and may be removed in the future, please use 'weights' instead.\n",
      "  warnings.warn(\n",
      "c:\\Users\\LENOVO\\anaconda3\\envs\\TENIS\\lib\\site-packages\\torchvision\\models\\_utils.py:223: UserWarning: Arguments other than a weight enum or `None` for 'weights' are deprecated since 0.13 and may be removed in the future. The current behavior is equivalent to passing `weights=ResNet152_Weights.IMAGENET1K_V1`. You can also use `weights=ResNet152_Weights.DEFAULT` to get the most up-to-date weights.\n",
      "  warnings.warn(msg)\n"
     ]
    },
    {
     "data": {
      "text/plain": [
       "<All keys matched successfully>"
      ]
     },
     "execution_count": 16,
     "metadata": {},
     "output_type": "execute_result"
    }
   ],
   "source": [
    "model = models.resnet152(pretrained=True)\n",
    "model.fc = torch.nn.Linear(model.fc.in_features, 28)\n",
    "model.load_state_dict(torch.load('../models/keypoints_court.pth', map_location='cpu'))"
   ]
  },
  {
   "cell_type": "code",
   "execution_count": 17,
   "metadata": {},
   "outputs": [],
   "source": [
    "image = cv2.imread('../input/image.png')\n",
    "image_rgb = cv2.cvtColor(image, cv2.COLOR_BGR2RGB)"
   ]
  },
  {
   "cell_type": "code",
   "execution_count": 22,
   "metadata": {},
   "outputs": [
    {
     "data": {
      "text/plain": [
       "tensor([[[-1.2617, -1.2617, -1.2274,  ..., -1.1075, -1.1247, -1.1760],\n",
       "         [-1.0390, -1.0390, -0.9877,  ..., -0.8335, -0.8507, -0.9363],\n",
       "         [-1.0390, -0.9877, -0.9020,  ..., -0.8507, -0.8507, -0.9363],\n",
       "         ...,\n",
       "         [-0.1828, -0.1828, -0.1828,  ..., -0.2513, -0.2513, -0.3541],\n",
       "         [-0.1828, -0.1828, -0.1828,  ..., -0.2513, -0.2513, -0.3541],\n",
       "         [-0.1828, -0.1999, -0.1828,  ..., -0.2856, -0.2856, -0.3883]],\n",
       "\n",
       "        [[-1.7381, -1.7381, -1.7556,  ..., -1.6681, -1.6856, -1.7206],\n",
       "         [-1.8431, -1.8431, -1.8431,  ..., -1.7731, -1.7906, -1.8081],\n",
       "         [-1.8431, -1.7556, -1.6155,  ..., -1.7906, -1.7906, -1.8081],\n",
       "         ...,\n",
       "         [ 0.6429,  0.6429,  0.6429,  ...,  0.5378,  0.5378,  0.3978],\n",
       "         [ 0.6429,  0.6429,  0.6429,  ...,  0.5378,  0.5378,  0.3978],\n",
       "         [ 0.6429,  0.6254,  0.6429,  ...,  0.5378,  0.5028,  0.3627]],\n",
       "\n",
       "        [[-1.4733, -1.4559, -1.4733,  ..., -1.2467, -1.2990, -1.3164],\n",
       "         [-1.5604, -1.5604, -1.5953,  ..., -1.3513, -1.3513, -1.3861],\n",
       "         [-1.5604, -1.4907, -1.4036,  ..., -1.4210, -1.4210, -1.4384],\n",
       "         ...,\n",
       "         [ 1.4548,  1.4548,  1.4548,  ...,  1.3154,  1.3154,  1.1411],\n",
       "         [ 1.4548,  1.4548,  1.4548,  ...,  1.3154,  1.3154,  1.1411],\n",
       "         [ 1.4548,  1.4374,  1.4548,  ...,  1.3154,  1.2980,  1.1237]]])"
      ]
     },
     "execution_count": 22,
     "metadata": {},
     "output_type": "execute_result"
    }
   ],
   "source": [
    "img = transforms.Compose([\n",
    "            transforms.ToPILImage(),\n",
    "            transforms.Resize((224, 224)),\n",
    "            transforms.ToTensor(),\n",
    "            transforms.Normalize(mean=[0.485, 0.456, 0.406], std=[0.229, 0.224, 0.225])\n",
    "        ])(image_rgb)\n",
    "img"
   ]
  },
  {
   "cell_type": "code",
   "execution_count": 23,
   "metadata": {},
   "outputs": [
    {
     "data": {
      "text/plain": [
       "tensor([[[[-1.2617, -1.2617, -1.2274,  ..., -1.1075, -1.1247, -1.1760],\n",
       "          [-1.0390, -1.0390, -0.9877,  ..., -0.8335, -0.8507, -0.9363],\n",
       "          [-1.0390, -0.9877, -0.9020,  ..., -0.8507, -0.8507, -0.9363],\n",
       "          ...,\n",
       "          [-0.1828, -0.1828, -0.1828,  ..., -0.2513, -0.2513, -0.3541],\n",
       "          [-0.1828, -0.1828, -0.1828,  ..., -0.2513, -0.2513, -0.3541],\n",
       "          [-0.1828, -0.1999, -0.1828,  ..., -0.2856, -0.2856, -0.3883]],\n",
       "\n",
       "         [[-1.7381, -1.7381, -1.7556,  ..., -1.6681, -1.6856, -1.7206],\n",
       "          [-1.8431, -1.8431, -1.8431,  ..., -1.7731, -1.7906, -1.8081],\n",
       "          [-1.8431, -1.7556, -1.6155,  ..., -1.7906, -1.7906, -1.8081],\n",
       "          ...,\n",
       "          [ 0.6429,  0.6429,  0.6429,  ...,  0.5378,  0.5378,  0.3978],\n",
       "          [ 0.6429,  0.6429,  0.6429,  ...,  0.5378,  0.5378,  0.3978],\n",
       "          [ 0.6429,  0.6254,  0.6429,  ...,  0.5378,  0.5028,  0.3627]],\n",
       "\n",
       "         [[-1.4733, -1.4559, -1.4733,  ..., -1.2467, -1.2990, -1.3164],\n",
       "          [-1.5604, -1.5604, -1.5953,  ..., -1.3513, -1.3513, -1.3861],\n",
       "          [-1.5604, -1.4907, -1.4036,  ..., -1.4210, -1.4210, -1.4384],\n",
       "          ...,\n",
       "          [ 1.4548,  1.4548,  1.4548,  ...,  1.3154,  1.3154,  1.1411],\n",
       "          [ 1.4548,  1.4548,  1.4548,  ...,  1.3154,  1.3154,  1.1411],\n",
       "          [ 1.4548,  1.4374,  1.4548,  ...,  1.3154,  1.2980,  1.1237]]]])"
      ]
     },
     "execution_count": 23,
     "metadata": {},
     "output_type": "execute_result"
    }
   ],
   "source": [
    "img = img.unsqueeze(0)\n",
    "img"
   ]
  },
  {
   "cell_type": "code",
   "execution_count": 26,
   "metadata": {},
   "outputs": [],
   "source": [
    "with torch.no_grad():\n",
    "    outputs = model(img)\n",
    "keypoints = outputs.squeeze().cpu().numpy()\n",
    "original_h, original_w = image.shape[:2]\n",
    "keypoints[::2] *= original_w / 224.0\n",
    "keypoints[1::2] *= original_h / 224.0"
   ]
  },
  {
   "cell_type": "code",
   "execution_count": 27,
   "metadata": {},
   "outputs": [
    {
     "data": {
      "text/plain": [
       "array([ 757.4582 ,  347.92404, 1732.629  ,  348.60803,  397.66937,\n",
       "        988.1057 , 2098.9026 ,  987.0559 ,  880.38904,  348.12756,\n",
       "        610.7749 ,  988.03864, 1610.8871 ,  348.57687, 1885.55   ,\n",
       "        987.0967 ,  841.40985,  442.05725, 1650.9088 ,  442.4646 ,\n",
       "        703.9565 ,  766.8081 , 1788.7946 ,  766.71173, 1246.5435 ,\n",
       "        442.07144, 1245.2081 ,  766.70776], dtype=float32)"
      ]
     },
     "execution_count": 27,
     "metadata": {},
     "output_type": "execute_result"
    }
   ],
   "source": [
    "keypoints"
   ]
  }
 ],
 "metadata": {
  "kernelspec": {
   "display_name": "TENIS",
   "language": "python",
   "name": "python3"
  },
  "language_info": {
   "codemirror_mode": {
    "name": "ipython",
    "version": 3
   },
   "file_extension": ".py",
   "mimetype": "text/x-python",
   "name": "python",
   "nbconvert_exporter": "python",
   "pygments_lexer": "ipython3",
   "version": "3.10.14"
  }
 },
 "nbformat": 4,
 "nbformat_minor": 2
}
